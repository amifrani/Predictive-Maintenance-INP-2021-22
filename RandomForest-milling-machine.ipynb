{
 "cells": [
  {
   "cell_type": "code",
   "execution_count": 42,
   "metadata": {},
   "outputs": [],
   "source": [
    "import numpy as np \n",
    "import pandas as pd\n",
    "import seaborn as sns\n",
    "import matplotlib.pyplot as plt\n",
    "import re \n",
    "\n"
   ]
  },
  {
   "cell_type": "markdown",
   "metadata": {},
   "source": [
    "Uploading the data\n"
   ]
  },
  {
   "cell_type": "code",
   "execution_count": 133,
   "metadata": {},
   "outputs": [
    {
     "data": {
      "text/html": [
       "<div>\n",
       "<style scoped>\n",
       "    .dataframe tbody tr th:only-of-type {\n",
       "        vertical-align: middle;\n",
       "    }\n",
       "\n",
       "    .dataframe tbody tr th {\n",
       "        vertical-align: top;\n",
       "    }\n",
       "\n",
       "    .dataframe thead th {\n",
       "        text-align: right;\n",
       "    }\n",
       "</style>\n",
       "<table border=\"1\" class=\"dataframe\">\n",
       "  <thead>\n",
       "    <tr style=\"text-align: right;\">\n",
       "      <th></th>\n",
       "      <th>Unnamed: 0</th>\n",
       "      <th>case</th>\n",
       "      <th>run</th>\n",
       "      <th>VB</th>\n",
       "      <th>time</th>\n",
       "      <th>DOC</th>\n",
       "      <th>feed</th>\n",
       "      <th>material</th>\n",
       "      <th>RMS_smcAC</th>\n",
       "      <th>RMS_smcDC</th>\n",
       "      <th>...</th>\n",
       "      <th>curvature_AE_spindle</th>\n",
       "      <th>e_acf1_AE_spindle</th>\n",
       "      <th>e_acf10_AE_spindle</th>\n",
       "      <th>entropy_AE_spindle</th>\n",
       "      <th>x_acf1_AE_spindle</th>\n",
       "      <th>x_acf10_AE_spindle</th>\n",
       "      <th>diff1_acf1_AE_spindle</th>\n",
       "      <th>diff1_acf10_AE_spindle</th>\n",
       "      <th>diff2_acf1_AE_spindle</th>\n",
       "      <th>diff2_acf10_AE_spindle</th>\n",
       "    </tr>\n",
       "  </thead>\n",
       "  <tbody>\n",
       "    <tr>\n",
       "      <th>0</th>\n",
       "      <td>1</td>\n",
       "      <td>1</td>\n",
       "      <td>1</td>\n",
       "      <td>0.00</td>\n",
       "      <td>2</td>\n",
       "      <td>1.5</td>\n",
       "      <td>0.5</td>\n",
       "      <td>1</td>\n",
       "      <td>1.532165</td>\n",
       "      <td>5.883103</td>\n",
       "      <td>...</td>\n",
       "      <td>-55.394516</td>\n",
       "      <td>0.742213</td>\n",
       "      <td>1.441881</td>\n",
       "      <td>0.456223</td>\n",
       "      <td>0.887486</td>\n",
       "      <td>3.065641</td>\n",
       "      <td>0.178543</td>\n",
       "      <td>0.313883</td>\n",
       "      <td>-0.338849</td>\n",
       "      <td>0.265890</td>\n",
       "    </tr>\n",
       "    <tr>\n",
       "      <th>1</th>\n",
       "      <td>4</td>\n",
       "      <td>1</td>\n",
       "      <td>4</td>\n",
       "      <td>0.11</td>\n",
       "      <td>7</td>\n",
       "      <td>1.5</td>\n",
       "      <td>0.5</td>\n",
       "      <td>1</td>\n",
       "      <td>1.638718</td>\n",
       "      <td>6.296917</td>\n",
       "      <td>...</td>\n",
       "      <td>-47.988389</td>\n",
       "      <td>0.656443</td>\n",
       "      <td>1.297104</td>\n",
       "      <td>0.465185</td>\n",
       "      <td>0.858973</td>\n",
       "      <td>3.353695</td>\n",
       "      <td>-0.001532</td>\n",
       "      <td>0.389174</td>\n",
       "      <td>-0.391433</td>\n",
       "      <td>0.579529</td>\n",
       "    </tr>\n",
       "    <tr>\n",
       "      <th>2</th>\n",
       "      <td>6</td>\n",
       "      <td>1</td>\n",
       "      <td>6</td>\n",
       "      <td>0.20</td>\n",
       "      <td>15</td>\n",
       "      <td>1.5</td>\n",
       "      <td>0.5</td>\n",
       "      <td>1</td>\n",
       "      <td>2.013691</td>\n",
       "      <td>7.747009</td>\n",
       "      <td>...</td>\n",
       "      <td>-63.183783</td>\n",
       "      <td>0.599650</td>\n",
       "      <td>1.054452</td>\n",
       "      <td>0.368215</td>\n",
       "      <td>0.883134</td>\n",
       "      <td>4.950364</td>\n",
       "      <td>-0.191388</td>\n",
       "      <td>0.481253</td>\n",
       "      <td>-0.480702</td>\n",
       "      <td>0.890212</td>\n",
       "    </tr>\n",
       "    <tr>\n",
       "      <th>3</th>\n",
       "      <td>7</td>\n",
       "      <td>1</td>\n",
       "      <td>7</td>\n",
       "      <td>0.24</td>\n",
       "      <td>19</td>\n",
       "      <td>1.5</td>\n",
       "      <td>0.5</td>\n",
       "      <td>1</td>\n",
       "      <td>2.061641</td>\n",
       "      <td>8.154872</td>\n",
       "      <td>...</td>\n",
       "      <td>-72.409545</td>\n",
       "      <td>0.512376</td>\n",
       "      <td>0.458965</td>\n",
       "      <td>0.383390</td>\n",
       "      <td>0.886932</td>\n",
       "      <td>6.073526</td>\n",
       "      <td>-0.201718</td>\n",
       "      <td>0.796146</td>\n",
       "      <td>-0.458686</td>\n",
       "      <td>1.290633</td>\n",
       "    </tr>\n",
       "    <tr>\n",
       "      <th>4</th>\n",
       "      <td>8</td>\n",
       "      <td>1</td>\n",
       "      <td>8</td>\n",
       "      <td>0.29</td>\n",
       "      <td>22</td>\n",
       "      <td>1.5</td>\n",
       "      <td>0.5</td>\n",
       "      <td>1</td>\n",
       "      <td>2.263880</td>\n",
       "      <td>8.445376</td>\n",
       "      <td>...</td>\n",
       "      <td>-62.994077</td>\n",
       "      <td>0.576020</td>\n",
       "      <td>0.540771</td>\n",
       "      <td>0.427134</td>\n",
       "      <td>0.899203</td>\n",
       "      <td>6.156157</td>\n",
       "      <td>-0.145679</td>\n",
       "      <td>0.399651</td>\n",
       "      <td>-0.471938</td>\n",
       "      <td>0.728646</td>\n",
       "    </tr>\n",
       "  </tbody>\n",
       "</table>\n",
       "<p>5 rows × 134 columns</p>\n",
       "</div>"
      ],
      "text/plain": [
       "   Unnamed: 0  case  run    VB  time  DOC  feed  material  RMS_smcAC  \\\n",
       "0           1     1    1  0.00     2  1.5   0.5         1   1.532165   \n",
       "1           4     1    4  0.11     7  1.5   0.5         1   1.638718   \n",
       "2           6     1    6  0.20    15  1.5   0.5         1   2.013691   \n",
       "3           7     1    7  0.24    19  1.5   0.5         1   2.061641   \n",
       "4           8     1    8  0.29    22  1.5   0.5         1   2.263880   \n",
       "\n",
       "   RMS_smcDC  ...  curvature_AE_spindle  e_acf1_AE_spindle  \\\n",
       "0   5.883103  ...            -55.394516           0.742213   \n",
       "1   6.296917  ...            -47.988389           0.656443   \n",
       "2   7.747009  ...            -63.183783           0.599650   \n",
       "3   8.154872  ...            -72.409545           0.512376   \n",
       "4   8.445376  ...            -62.994077           0.576020   \n",
       "\n",
       "   e_acf10_AE_spindle  entropy_AE_spindle  x_acf1_AE_spindle  \\\n",
       "0            1.441881            0.456223           0.887486   \n",
       "1            1.297104            0.465185           0.858973   \n",
       "2            1.054452            0.368215           0.883134   \n",
       "3            0.458965            0.383390           0.886932   \n",
       "4            0.540771            0.427134           0.899203   \n",
       "\n",
       "   x_acf10_AE_spindle  diff1_acf1_AE_spindle  diff1_acf10_AE_spindle  \\\n",
       "0            3.065641               0.178543                0.313883   \n",
       "1            3.353695              -0.001532                0.389174   \n",
       "2            4.950364              -0.191388                0.481253   \n",
       "3            6.073526              -0.201718                0.796146   \n",
       "4            6.156157              -0.145679                0.399651   \n",
       "\n",
       "   diff2_acf1_AE_spindle  diff2_acf10_AE_spindle  \n",
       "0              -0.338849                0.265890  \n",
       "1              -0.391433                0.579529  \n",
       "2              -0.480702                0.890212  \n",
       "3              -0.458686                1.290633  \n",
       "4              -0.471938                0.728646  \n",
       "\n",
       "[5 rows x 134 columns]"
      ]
     },
     "execution_count": 133,
     "metadata": {},
     "output_type": "execute_result"
    }
   ],
   "source": [
    "path='train.csv'\n",
    "data= pd.read_csv(path,sep=';',decimal=',')\n",
    "test=pd.read_csv('test.csv',sep=';',decimal=',')\n",
    "data.head()\n"
   ]
  },
  {
   "cell_type": "markdown",
   "metadata": {},
   "source": [
    "Separating the target and the features\n"
   ]
  },
  {
   "cell_type": "code",
   "execution_count": 171,
   "metadata": {},
   "outputs": [],
   "source": [
    "df=data.copy()\n",
    "X_train=df.drop(['VB'],axis=1)\n",
    "Y_train=df['VB']\n",
    "X_test=test.drop(['ID','VB'], axis=1)\n",
    "Y_test=test['VB'].astype(float)"
   ]
  },
  {
   "cell_type": "markdown",
   "metadata": {},
   "source": [
    "Feature selection function"
   ]
  },
  {
   "cell_type": "code",
   "execution_count": 172,
   "metadata": {},
   "outputs": [],
   "source": [
    "def select(df,n=0.8):\n",
    "    corr=df.corr()\n",
    "    columns = np.full((corr.shape[0],), True, dtype=bool)\n",
    "    for i in range(corr.shape[0]):\n",
    "      for j in range(i+1, corr.shape[0]):\n",
    "        if corr.iloc[i,j] >= n:\n",
    "            if columns[j]:\n",
    "                columns[j] = False\n",
    "    selected_columns = df.columns[columns]\n",
    "    \n",
    "    return selected_columns"
   ]
  },
  {
   "cell_type": "code",
   "execution_count": 173,
   "metadata": {},
   "outputs": [],
   "source": [
    "X_train.rename({\"Unnamed: 0\":\"a\"}, axis=\"columns\", inplace=True)\n",
    "X_train=X_train.drop(['a'],axis=1) \n",
    "columns=select(X_train)\n",
    "X_train_slct=X_train[columns]\n",
    "X_test_slct=X_test[columns]"
   ]
  },
  {
   "cell_type": "markdown",
   "metadata": {},
   "source": [
    "Encoding Categorical features"
   ]
  },
  {
   "cell_type": "code",
   "execution_count": 174,
   "metadata": {},
   "outputs": [
    {
     "name": "stdout",
     "output_type": "stream",
     "text": [
      "     DOC__0.75  DOC__1.5  feed__0.25  feed__0.5\n",
      "0            0         1           0          1\n",
      "1            0         1           0          1\n",
      "2            0         1           0          1\n",
      "3            0         1           0          1\n",
      "4            0         1           0          1\n",
      "..         ...       ...         ...        ...\n",
      "100          1         0           0          1\n",
      "101          1         0           0          1\n",
      "102          1         0           0          1\n",
      "103          1         0           0          1\n",
      "104          1         0           0          1\n",
      "\n",
      "[105 rows x 4 columns]\n"
     ]
    }
   ],
   "source": [
    "X_train_cat=pd.get_dummies(X_train[['DOC','feed']],columns=['DOC','feed'], prefix=['DOC_','feed_'])\n",
    "print(X_train_cat)\n",
    "X_train_slct=X_train_slct.drop(['DOC','feed'],axis=1)\n",
    "X_test_cat=pd.get_dummies(X_test[['DOC','feed']],columns=['DOC','feed'], prefix=['DOC_','feed_'])\n",
    "X_test_slct=X_test_slct.drop(['DOC','feed'],axis=1)"
   ]
  },
  {
   "cell_type": "code",
   "execution_count": 198,
   "metadata": {},
   "outputs": [
    {
     "data": {
      "text/html": [
       "<div>\n",
       "<style scoped>\n",
       "    .dataframe tbody tr th:only-of-type {\n",
       "        vertical-align: middle;\n",
       "    }\n",
       "\n",
       "    .dataframe tbody tr th {\n",
       "        vertical-align: top;\n",
       "    }\n",
       "\n",
       "    .dataframe thead th {\n",
       "        text-align: right;\n",
       "    }\n",
       "</style>\n",
       "<table border=\"1\" class=\"dataframe\">\n",
       "  <thead>\n",
       "    <tr style=\"text-align: right;\">\n",
       "      <th></th>\n",
       "      <th>case</th>\n",
       "      <th>run</th>\n",
       "      <th>material</th>\n",
       "      <th>RMS_smcAC</th>\n",
       "      <th>max_AE_spindle</th>\n",
       "      <th>skewness_vib_table</th>\n",
       "      <th>skewness_vib_spindle</th>\n",
       "      <th>skewness_AE_table</th>\n",
       "      <th>skewness_AE_spindle</th>\n",
       "      <th>kurtosis_AE_spindle</th>\n",
       "      <th>...</th>\n",
       "      <th>trend_AE_spindle</th>\n",
       "      <th>spike_AE_spindle</th>\n",
       "      <th>e_acf1_AE_spindle</th>\n",
       "      <th>entropy_AE_spindle</th>\n",
       "      <th>x_acf1_AE_spindle</th>\n",
       "      <th>diff2_acf1_AE_spindle</th>\n",
       "      <th>DOC__0.75</th>\n",
       "      <th>DOC__1.5</th>\n",
       "      <th>feed__0.25</th>\n",
       "      <th>feed__0.5</th>\n",
       "    </tr>\n",
       "  </thead>\n",
       "  <tbody>\n",
       "    <tr>\n",
       "      <th>0</th>\n",
       "      <td>1</td>\n",
       "      <td>1</td>\n",
       "      <td>1</td>\n",
       "      <td>1.532165</td>\n",
       "      <td>0.429077</td>\n",
       "      <td>-1.076321</td>\n",
       "      <td>-0.405856</td>\n",
       "      <td>0.330280</td>\n",
       "      <td>0.359970</td>\n",
       "      <td>3.157375</td>\n",
       "      <td>...</td>\n",
       "      <td>0.564230</td>\n",
       "      <td>9.356888e-09</td>\n",
       "      <td>0.742213</td>\n",
       "      <td>0.456223</td>\n",
       "      <td>0.887486</td>\n",
       "      <td>-0.338849</td>\n",
       "      <td>0</td>\n",
       "      <td>1</td>\n",
       "      <td>0</td>\n",
       "      <td>1</td>\n",
       "    </tr>\n",
       "    <tr>\n",
       "      <th>1</th>\n",
       "      <td>1</td>\n",
       "      <td>4</td>\n",
       "      <td>1</td>\n",
       "      <td>1.638718</td>\n",
       "      <td>0.521240</td>\n",
       "      <td>-1.071159</td>\n",
       "      <td>-0.526945</td>\n",
       "      <td>0.086311</td>\n",
       "      <td>0.552406</td>\n",
       "      <td>3.623208</td>\n",
       "      <td>...</td>\n",
       "      <td>0.590024</td>\n",
       "      <td>9.291575e-09</td>\n",
       "      <td>0.656443</td>\n",
       "      <td>0.465185</td>\n",
       "      <td>0.858973</td>\n",
       "      <td>-0.391433</td>\n",
       "      <td>0</td>\n",
       "      <td>1</td>\n",
       "      <td>0</td>\n",
       "      <td>1</td>\n",
       "    </tr>\n",
       "    <tr>\n",
       "      <th>2</th>\n",
       "      <td>1</td>\n",
       "      <td>6</td>\n",
       "      <td>1</td>\n",
       "      <td>2.013691</td>\n",
       "      <td>0.397339</td>\n",
       "      <td>-1.243773</td>\n",
       "      <td>-0.495549</td>\n",
       "      <td>-0.416780</td>\n",
       "      <td>-0.374809</td>\n",
       "      <td>2.654615</td>\n",
       "      <td>...</td>\n",
       "      <td>0.708834</td>\n",
       "      <td>2.629071e-09</td>\n",
       "      <td>0.599650</td>\n",
       "      <td>0.368215</td>\n",
       "      <td>0.883134</td>\n",
       "      <td>-0.480702</td>\n",
       "      <td>0</td>\n",
       "      <td>1</td>\n",
       "      <td>0</td>\n",
       "      <td>1</td>\n",
       "    </tr>\n",
       "    <tr>\n",
       "      <th>3</th>\n",
       "      <td>1</td>\n",
       "      <td>7</td>\n",
       "      <td>1</td>\n",
       "      <td>2.061641</td>\n",
       "      <td>0.564575</td>\n",
       "      <td>-1.022797</td>\n",
       "      <td>-0.298155</td>\n",
       "      <td>-0.336624</td>\n",
       "      <td>-0.448444</td>\n",
       "      <td>2.488166</td>\n",
       "      <td>...</td>\n",
       "      <td>0.768904</td>\n",
       "      <td>2.301420e-09</td>\n",
       "      <td>0.512376</td>\n",
       "      <td>0.383390</td>\n",
       "      <td>0.886932</td>\n",
       "      <td>-0.458686</td>\n",
       "      <td>0</td>\n",
       "      <td>1</td>\n",
       "      <td>0</td>\n",
       "      <td>1</td>\n",
       "    </tr>\n",
       "    <tr>\n",
       "      <th>4</th>\n",
       "      <td>1</td>\n",
       "      <td>8</td>\n",
       "      <td>1</td>\n",
       "      <td>2.263880</td>\n",
       "      <td>0.511475</td>\n",
       "      <td>-1.126457</td>\n",
       "      <td>3.790775</td>\n",
       "      <td>-0.509940</td>\n",
       "      <td>-0.586659</td>\n",
       "      <td>2.897492</td>\n",
       "      <td>...</td>\n",
       "      <td>0.763389</td>\n",
       "      <td>1.939533e-09</td>\n",
       "      <td>0.576020</td>\n",
       "      <td>0.427134</td>\n",
       "      <td>0.899203</td>\n",
       "      <td>-0.471938</td>\n",
       "      <td>0</td>\n",
       "      <td>1</td>\n",
       "      <td>0</td>\n",
       "      <td>1</td>\n",
       "    </tr>\n",
       "  </tbody>\n",
       "</table>\n",
       "<p>5 rows × 52 columns</p>\n",
       "</div>"
      ],
      "text/plain": [
       "   case  run  material  RMS_smcAC  max_AE_spindle  skewness_vib_table  \\\n",
       "0     1    1         1   1.532165        0.429077           -1.076321   \n",
       "1     1    4         1   1.638718        0.521240           -1.071159   \n",
       "2     1    6         1   2.013691        0.397339           -1.243773   \n",
       "3     1    7         1   2.061641        0.564575           -1.022797   \n",
       "4     1    8         1   2.263880        0.511475           -1.126457   \n",
       "\n",
       "   skewness_vib_spindle  skewness_AE_table  skewness_AE_spindle  \\\n",
       "0             -0.405856           0.330280             0.359970   \n",
       "1             -0.526945           0.086311             0.552406   \n",
       "2             -0.495549          -0.416780            -0.374809   \n",
       "3             -0.298155          -0.336624            -0.448444   \n",
       "4              3.790775          -0.509940            -0.586659   \n",
       "\n",
       "   kurtosis_AE_spindle  ...  trend_AE_spindle  spike_AE_spindle  \\\n",
       "0             3.157375  ...          0.564230      9.356888e-09   \n",
       "1             3.623208  ...          0.590024      9.291575e-09   \n",
       "2             2.654615  ...          0.708834      2.629071e-09   \n",
       "3             2.488166  ...          0.768904      2.301420e-09   \n",
       "4             2.897492  ...          0.763389      1.939533e-09   \n",
       "\n",
       "   e_acf1_AE_spindle  entropy_AE_spindle  x_acf1_AE_spindle  \\\n",
       "0           0.742213            0.456223           0.887486   \n",
       "1           0.656443            0.465185           0.858973   \n",
       "2           0.599650            0.368215           0.883134   \n",
       "3           0.512376            0.383390           0.886932   \n",
       "4           0.576020            0.427134           0.899203   \n",
       "\n",
       "   diff2_acf1_AE_spindle  DOC__0.75  DOC__1.5  feed__0.25  feed__0.5  \n",
       "0              -0.338849          0         1           0          1  \n",
       "1              -0.391433          0         1           0          1  \n",
       "2              -0.480702          0         1           0          1  \n",
       "3              -0.458686          0         1           0          1  \n",
       "4              -0.471938          0         1           0          1  \n",
       "\n",
       "[5 rows x 52 columns]"
      ]
     },
     "execution_count": 198,
     "metadata": {},
     "output_type": "execute_result"
    }
   ],
   "source": [
    "X_train_fn=pd.concat([X_train_slct,X_train_cat],axis=1)\n",
    "X_test_fn=pd.concat([X_test_slct,X_test_cat],axis=1)\n",
    "X_train_fn.head()"
   ]
  },
  {
   "cell_type": "markdown",
   "metadata": {},
   "source": [
    "Feature scaling"
   ]
  },
  {
   "cell_type": "code",
   "execution_count": 139,
   "metadata": {},
   "outputs": [],
   "source": [
    "def scaling(df):\n",
    "   from sklearn import preprocessing\n",
    "\n",
    "   scaler = preprocessing. StandardScaler().fit(df.values)\n",
    "   df_scaled = scaler.transform(df.values)\n",
    "   df_sc=pd.DataFrame(df_scaled,columns=df.columns)\n",
    "\n",
    "   return df_sc \n",
    "\n",
    "\n"
   ]
  },
  {
   "cell_type": "code",
   "execution_count": 180,
   "metadata": {},
   "outputs": [
    {
     "data": {
      "text/html": [
       "<div>\n",
       "<style scoped>\n",
       "    .dataframe tbody tr th:only-of-type {\n",
       "        vertical-align: middle;\n",
       "    }\n",
       "\n",
       "    .dataframe tbody tr th {\n",
       "        vertical-align: top;\n",
       "    }\n",
       "\n",
       "    .dataframe thead th {\n",
       "        text-align: right;\n",
       "    }\n",
       "</style>\n",
       "<table border=\"1\" class=\"dataframe\">\n",
       "  <thead>\n",
       "    <tr style=\"text-align: right;\">\n",
       "      <th></th>\n",
       "      <th>case</th>\n",
       "      <th>run</th>\n",
       "      <th>material</th>\n",
       "      <th>RMS_smcAC</th>\n",
       "      <th>max_AE_spindle</th>\n",
       "      <th>skewness_vib_table</th>\n",
       "      <th>skewness_vib_spindle</th>\n",
       "      <th>skewness_AE_table</th>\n",
       "      <th>skewness_AE_spindle</th>\n",
       "      <th>kurtosis_AE_spindle</th>\n",
       "      <th>...</th>\n",
       "      <th>trend_AE_spindle</th>\n",
       "      <th>spike_AE_spindle</th>\n",
       "      <th>e_acf1_AE_spindle</th>\n",
       "      <th>entropy_AE_spindle</th>\n",
       "      <th>x_acf1_AE_spindle</th>\n",
       "      <th>diff2_acf1_AE_spindle</th>\n",
       "      <th>DOC__0.75</th>\n",
       "      <th>DOC__1.5</th>\n",
       "      <th>feed__0.25</th>\n",
       "      <th>feed__0.5</th>\n",
       "    </tr>\n",
       "  </thead>\n",
       "  <tbody>\n",
       "    <tr>\n",
       "      <th>0</th>\n",
       "      <td>-0.728423</td>\n",
       "      <td>-1.371495</td>\n",
       "      <td>-0.53033</td>\n",
       "      <td>-1.412349</td>\n",
       "      <td>-1.085654</td>\n",
       "      <td>0.142875</td>\n",
       "      <td>-1.317311</td>\n",
       "      <td>0.327978</td>\n",
       "      <td>-0.213388</td>\n",
       "      <td>-0.925083</td>\n",
       "      <td>...</td>\n",
       "      <td>-2.518590</td>\n",
       "      <td>0.678906</td>\n",
       "      <td>0.131302</td>\n",
       "      <td>2.111890</td>\n",
       "      <td>-2.005760</td>\n",
       "      <td>-3.274212</td>\n",
       "      <td>0.53033</td>\n",
       "      <td>-0.53033</td>\n",
       "      <td>0.759555</td>\n",
       "      <td>-0.759555</td>\n",
       "    </tr>\n",
       "    <tr>\n",
       "      <th>1</th>\n",
       "      <td>-0.728423</td>\n",
       "      <td>-1.207556</td>\n",
       "      <td>-0.53033</td>\n",
       "      <td>-1.408965</td>\n",
       "      <td>-0.676167</td>\n",
       "      <td>0.152586</td>\n",
       "      <td>-1.314438</td>\n",
       "      <td>0.231212</td>\n",
       "      <td>0.411657</td>\n",
       "      <td>-0.417599</td>\n",
       "      <td>...</td>\n",
       "      <td>-1.990122</td>\n",
       "      <td>0.863204</td>\n",
       "      <td>0.503374</td>\n",
       "      <td>1.394896</td>\n",
       "      <td>-0.985078</td>\n",
       "      <td>-0.925505</td>\n",
       "      <td>0.53033</td>\n",
       "      <td>-0.53033</td>\n",
       "      <td>0.759555</td>\n",
       "      <td>-0.759555</td>\n",
       "    </tr>\n",
       "    <tr>\n",
       "      <th>2</th>\n",
       "      <td>-0.728423</td>\n",
       "      <td>-1.043616</td>\n",
       "      <td>-0.53033</td>\n",
       "      <td>-1.301774</td>\n",
       "      <td>-1.162765</td>\n",
       "      <td>0.023203</td>\n",
       "      <td>-1.311293</td>\n",
       "      <td>-0.093709</td>\n",
       "      <td>-0.567750</td>\n",
       "      <td>-1.061941</td>\n",
       "      <td>...</td>\n",
       "      <td>-1.553154</td>\n",
       "      <td>0.009290</td>\n",
       "      <td>0.740444</td>\n",
       "      <td>0.903346</td>\n",
       "      <td>-0.333160</td>\n",
       "      <td>-1.714676</td>\n",
       "      <td>0.53033</td>\n",
       "      <td>-0.53033</td>\n",
       "      <td>0.759555</td>\n",
       "      <td>-0.759555</td>\n",
       "    </tr>\n",
       "    <tr>\n",
       "      <th>3</th>\n",
       "      <td>-0.728423</td>\n",
       "      <td>-0.879676</td>\n",
       "      <td>-0.53033</td>\n",
       "      <td>-1.148388</td>\n",
       "      <td>-0.918137</td>\n",
       "      <td>-0.680474</td>\n",
       "      <td>-1.300253</td>\n",
       "      <td>-0.142761</td>\n",
       "      <td>-0.523828</td>\n",
       "      <td>-0.820094</td>\n",
       "      <td>...</td>\n",
       "      <td>-1.113209</td>\n",
       "      <td>-0.036785</td>\n",
       "      <td>0.883749</td>\n",
       "      <td>0.425210</td>\n",
       "      <td>0.139623</td>\n",
       "      <td>0.053245</td>\n",
       "      <td>0.53033</td>\n",
       "      <td>-0.53033</td>\n",
       "      <td>0.759555</td>\n",
       "      <td>-0.759555</td>\n",
       "    </tr>\n",
       "    <tr>\n",
       "      <th>4</th>\n",
       "      <td>-0.728423</td>\n",
       "      <td>-0.715737</td>\n",
       "      <td>-0.53033</td>\n",
       "      <td>-1.150473</td>\n",
       "      <td>-0.224135</td>\n",
       "      <td>-0.582137</td>\n",
       "      <td>-1.351719</td>\n",
       "      <td>0.085660</td>\n",
       "      <td>-0.266876</td>\n",
       "      <td>-0.855757</td>\n",
       "      <td>...</td>\n",
       "      <td>-1.102796</td>\n",
       "      <td>0.030791</td>\n",
       "      <td>0.559245</td>\n",
       "      <td>0.250462</td>\n",
       "      <td>-0.291566</td>\n",
       "      <td>1.824784</td>\n",
       "      <td>0.53033</td>\n",
       "      <td>-0.53033</td>\n",
       "      <td>0.759555</td>\n",
       "      <td>-0.759555</td>\n",
       "    </tr>\n",
       "  </tbody>\n",
       "</table>\n",
       "<p>5 rows × 52 columns</p>\n",
       "</div>"
      ],
      "text/plain": [
       "       case       run  material  RMS_smcAC  max_AE_spindle  \\\n",
       "0 -0.728423 -1.371495  -0.53033  -1.412349       -1.085654   \n",
       "1 -0.728423 -1.207556  -0.53033  -1.408965       -0.676167   \n",
       "2 -0.728423 -1.043616  -0.53033  -1.301774       -1.162765   \n",
       "3 -0.728423 -0.879676  -0.53033  -1.148388       -0.918137   \n",
       "4 -0.728423 -0.715737  -0.53033  -1.150473       -0.224135   \n",
       "\n",
       "   skewness_vib_table  skewness_vib_spindle  skewness_AE_table  \\\n",
       "0            0.142875             -1.317311           0.327978   \n",
       "1            0.152586             -1.314438           0.231212   \n",
       "2            0.023203             -1.311293          -0.093709   \n",
       "3           -0.680474             -1.300253          -0.142761   \n",
       "4           -0.582137             -1.351719           0.085660   \n",
       "\n",
       "   skewness_AE_spindle  kurtosis_AE_spindle  ...  trend_AE_spindle  \\\n",
       "0            -0.213388            -0.925083  ...         -2.518590   \n",
       "1             0.411657            -0.417599  ...         -1.990122   \n",
       "2            -0.567750            -1.061941  ...         -1.553154   \n",
       "3            -0.523828            -0.820094  ...         -1.113209   \n",
       "4            -0.266876            -0.855757  ...         -1.102796   \n",
       "\n",
       "   spike_AE_spindle  e_acf1_AE_spindle  entropy_AE_spindle  x_acf1_AE_spindle  \\\n",
       "0          0.678906           0.131302            2.111890          -2.005760   \n",
       "1          0.863204           0.503374            1.394896          -0.985078   \n",
       "2          0.009290           0.740444            0.903346          -0.333160   \n",
       "3         -0.036785           0.883749            0.425210           0.139623   \n",
       "4          0.030791           0.559245            0.250462          -0.291566   \n",
       "\n",
       "   diff2_acf1_AE_spindle  DOC__0.75  DOC__1.5  feed__0.25  feed__0.5  \n",
       "0              -3.274212    0.53033  -0.53033    0.759555  -0.759555  \n",
       "1              -0.925505    0.53033  -0.53033    0.759555  -0.759555  \n",
       "2              -1.714676    0.53033  -0.53033    0.759555  -0.759555  \n",
       "3               0.053245    0.53033  -0.53033    0.759555  -0.759555  \n",
       "4               1.824784    0.53033  -0.53033    0.759555  -0.759555  \n",
       "\n",
       "[5 rows x 52 columns]"
      ]
     },
     "execution_count": 180,
     "metadata": {},
     "output_type": "execute_result"
    }
   ],
   "source": [
    "X_train_fn_sc=scaling(X_train_fn)\n",
    "X_test_fn_sc=scaling(X_test_fn)\n",
    "X_test_fn_sc.head()"
   ]
  },
  {
   "cell_type": "markdown",
   "metadata": {},
   "source": [
    "Visualisation of the target"
   ]
  },
  {
   "cell_type": "code",
   "execution_count": 5,
   "metadata": {},
   "outputs": [
    {
     "data": {
      "image/png": "[encoded data removed]",
      "text/plain": [
       "<Figure size 360x360 with 1 Axes>"
      ]
     },
     "metadata": {
      "needs_background": "light"
     },
     "output_type": "display_data"
    }
   ],
   "source": [
    "ax= sns.displot(data=Y_train, kde=False)\n",
    "plt.title('Histograme de VB')\n",
    "plt.show()\n"
   ]
  },
  {
   "cell_type": "markdown",
   "metadata": {},
   "source": [
    "Visualisation of log(Y)"
   ]
  },
  {
   "cell_type": "code",
   "execution_count": 238,
   "metadata": {},
   "outputs": [
    {
     "name": "stderr",
     "output_type": "stream",
     "text": [
      "C:\\Users\\HP\\miniconda3\\envs\\myenv\\lib\\site-packages\\pandas\\core\\arraylike.py:364: RuntimeWarning: divide by zero encountered in log\n",
      "  result = getattr(ufunc, method)(*inputs, **kwargs)\n"
     ]
    },
    {
     "data": {
      "image/png": "[encoded data removed]",
      "text/plain": [
       "<Figure size 360x360 with 1 Axes>"
      ]
     },
     "metadata": {},
     "output_type": "display_data"
    }
   ],
   "source": [
    "ax= sns.displot(data=np.log(Y_train), kde=False)\n",
    "plt.title('Histograme de Log(VB+1)')\n",
    "plt.show()"
   ]
  },
  {
   "cell_type": "markdown",
   "metadata": {},
   "source": [
    "PLOTTING Y=F(X)"
   ]
  },
  {
   "cell_type": "code",
   "execution_count": 143,
   "metadata": {},
   "outputs": [
    {
     "data": {
      "text/plain": [
       "Text(0.5, 1.0, 'Sample Dataset')"
      ]
     },
     "execution_count": 143,
     "metadata": {},
     "output_type": "execute_result"
    },
    {
     "data": {
      "image/png": "[encoded data removed]",
      "text/plain": [
       "<Figure size 432x288 with 1 Axes>"
      ]
     },
     "metadata": {},
     "output_type": "display_data"
    }
   ],
   "source": [
    "%matplotlib inline\n",
    "\n",
    "plt.style.use('seaborn-whitegrid')\n",
    "\n",
    "plt.plot(X_train_fn_sc, Y_train, 'o', color='black');\n",
    "plt.title(\"Sample Dataset\")"
   ]
  },
  {
   "cell_type": "markdown",
   "metadata": {},
   "source": [
    "PLOTTING log(Y)=F(X)"
   ]
  },
  {
   "cell_type": "code",
   "execution_count": 222,
   "metadata": {},
   "outputs": [
    {
     "data": {
      "text/plain": [
       "Text(0.5, 1.0, 'Sample Dataset')"
      ]
     },
     "execution_count": 222,
     "metadata": {},
     "output_type": "execute_result"
    },
    {
     "data": {
      "image/png": "[encoded data removed]",
      "text/plain": [
       "<Figure size 432x288 with 1 Axes>"
      ]
     },
     "metadata": {},
     "output_type": "display_data"
    }
   ],
   "source": [
    "%matplotlib inline\n",
    "\n",
    "plt.style.use('seaborn-whitegrid')\n",
    "\n",
    "plt.plot(X_train_fn_sc, np.log10(Y_train+0.5), 'o', color='black');\n",
    "plt.title(\"Sample Dataset\")"
   ]
  },
  {
   "cell_type": "markdown",
   "metadata": {},
   "source": [
    "Linear Regression "
   ]
  },
  {
   "cell_type": "code",
   "execution_count": 181,
   "metadata": {},
   "outputs": [],
   "source": [
    "from sklearn.linear_model import LinearRegression\n",
    "linear_regressor = LinearRegression()  # create object for the class\n",
    "linear_regressor.fit(X_train_fn_sc, Y_train)  # perform linear regression\n",
    "Y_pred = linear_regressor.predict(X_test_fn_sc)"
   ]
  },
  {
   "cell_type": "markdown",
   "metadata": {},
   "source": [
    "Linear Regression RMSE"
   ]
  },
  {
   "cell_type": "code",
   "execution_count": 182,
   "metadata": {},
   "outputs": [
    {
     "data": {
      "text/plain": [
       "0.2148820335657589"
      ]
     },
     "execution_count": 182,
     "metadata": {},
     "output_type": "execute_result"
    }
   ],
   "source": [
    "from sklearn.metrics import mean_squared_error\n",
    "mean_squared_error(Y_test,Y_pred,squared=False)"
   ]
  },
  {
   "cell_type": "markdown",
   "metadata": {},
   "source": [
    "Residuals scatter plot"
   ]
  },
  {
   "cell_type": "code",
   "execution_count": 183,
   "metadata": {},
   "outputs": [
    {
     "data": {
      "image/png": "[encoded data removed]",
      "text/plain": [
       "<Figure size 432x288 with 1 Axes>"
      ]
     },
     "metadata": {},
     "output_type": "display_data"
    }
   ],
   "source": [
    "residuals=Y_test-Y_pred\n",
    "plt.scatter(residuals,Y_pred)\n",
    "\n",
    "plt.show()"
   ]
  },
  {
   "cell_type": "markdown",
   "metadata": {},
   "source": [
    "Linear regression for log(Y)"
   ]
  },
  {
   "cell_type": "code",
   "execution_count": 185,
   "metadata": {},
   "outputs": [],
   "source": [
    "from sklearn.linear_model import LinearRegression\n",
    "linear_regressor = LinearRegression()  # create object for the class\n",
    "linear_regressor.fit(X_train_fn_sc, np.log10(Y_train+1))  # perform linear regression\n",
    "Y_pred = linear_regressor.predict(X_test_fn_sc)"
   ]
  },
  {
   "cell_type": "markdown",
   "metadata": {},
   "source": [
    "Linear Regressin RMSE fro log(Y)"
   ]
  },
  {
   "cell_type": "code",
   "execution_count": 186,
   "metadata": {},
   "outputs": [
    {
     "data": {
      "text/plain": [
       "0.059503931968186645"
      ]
     },
     "execution_count": 186,
     "metadata": {},
     "output_type": "execute_result"
    }
   ],
   "source": [
    "from sklearn.metrics import mean_squared_error\n",
    "mean_squared_error(np.log10(Y_test+1),Y_pred,squared=False)"
   ]
  },
  {
   "cell_type": "markdown",
   "metadata": {},
   "source": [
    "Scatter PLOT "
   ]
  },
  {
   "cell_type": "code",
   "execution_count": 188,
   "metadata": {},
   "outputs": [
    {
     "data": {
      "image/png": "[encoded data removed]",
      "text/plain": [
       "<Figure size 432x288 with 1 Axes>"
      ]
     },
     "metadata": {},
     "output_type": "display_data"
    }
   ],
   "source": [
    "residuals=np.log10(Y_test+1)-Y_pred\n",
    "plt.scatter(residuals,Y_pred)\n",
    "\n",
    "plt.show()"
   ]
  },
  {
   "cell_type": "markdown",
   "metadata": {},
   "source": [
    "R2 SCORE"
   ]
  },
  {
   "cell_type": "code",
   "execution_count": 187,
   "metadata": {},
   "outputs": [
    {
     "data": {
      "text/plain": [
       "0.2589607198958569"
      ]
     },
     "execution_count": 187,
     "metadata": {},
     "output_type": "execute_result"
    }
   ],
   "source": [
    "from sklearn.metrics import r2_score\n",
    "r2_score(np.log10(Y_test+1),Y_pred)\n"
   ]
  },
  {
   "cell_type": "markdown",
   "metadata": {},
   "source": [
    "Random Forest"
   ]
  },
  {
   "cell_type": "markdown",
   "metadata": {},
   "source": [
    "Paramaters Optimization"
   ]
  },
  {
   "cell_type": "code",
   "execution_count": 229,
   "metadata": {},
   "outputs": [
    {
     "data": {
      "text/plain": [
       "{'n_estimators': 134, 'max_depth': 17}"
      ]
     },
     "execution_count": 229,
     "metadata": {},
     "output_type": "execute_result"
    }
   ],
   "source": [
    "from sklearn.model_selection import RandomizedSearchCV\n",
    "#Random Forest Regressor param_dict\n",
    "n_estimators = [i for i in range (20,151)] # nombre des arbres\n",
    "max_depth = [i for i in range (1,21)] # profondeurs des arbres\n",
    "# HYperparameter Dict\n",
    "param_dict = {'n_estimators' : n_estimators,\n",
    "              'max_depth' : max_depth,\n",
    "}\n",
    "# Instanciation du modèle Random Forest\n",
    "rf = RandomForestRegressor()\n",
    "\n",
    "\n",
    "rf_random = RandomizedSearchCV(estimator = rf,param_distributions= param_dict)\n",
    "\n",
    "rf_random.fit(X_train_fn,np.log10(Y_train+1))\n",
    "#On cherche le meilleur modèle\n",
    "rf_optimal_model = rf_random.best_params_\n",
    "rf_optimal_model"
   ]
  },
  {
   "cell_type": "code",
   "execution_count": 230,
   "metadata": {},
   "outputs": [
    {
     "data": {
      "text/plain": [
       "RandomForestRegressor(max_depth=17, n_estimators=134)"
      ]
     },
     "execution_count": 230,
     "metadata": {},
     "output_type": "execute_result"
    }
   ],
   "source": [
    "from sklearn.ensemble import RandomForestRegressor\n",
    "model2= RandomForestRegressor(n_estimators=134, max_depth = 17)\n",
    "model2.fit(X_train_fn,np.log10(Y_train+1))"
   ]
  },
  {
   "cell_type": "code",
   "execution_count": 231,
   "metadata": {},
   "outputs": [],
   "source": [
    "Y_RF=model2.predict(X_test_fn)"
   ]
  },
  {
   "cell_type": "markdown",
   "metadata": {},
   "source": [
    "RANDOM FOREST RMSE"
   ]
  },
  {
   "cell_type": "code",
   "execution_count": 232,
   "metadata": {},
   "outputs": [
    {
     "data": {
      "text/plain": [
       "0.03765637336510413"
      ]
     },
     "execution_count": 232,
     "metadata": {},
     "output_type": "execute_result"
    }
   ],
   "source": [
    "from sklearn.metrics import mean_squared_error\n",
    "mean_squared_error(np.log10(Y_test+1),Y_RF,squared=False)"
   ]
  },
  {
   "cell_type": "markdown",
   "metadata": {},
   "source": [
    "SCATTER PLOT"
   ]
  },
  {
   "cell_type": "code",
   "execution_count": 200,
   "metadata": {},
   "outputs": [
    {
     "data": {
      "image/png": "[encoded data removed]",
      "text/plain": [
       "<Figure size 432x288 with 1 Axes>"
      ]
     },
     "metadata": {},
     "output_type": "display_data"
    }
   ],
   "source": [
    "residuals=np.log10(Y_test+1)-Y_RF\n",
    "plt.scatter(residuals,Y_RF)\n",
    "\n",
    "plt.show()"
   ]
  },
  {
   "cell_type": "markdown",
   "metadata": {},
   "source": [
    "RANDOM FOREST R2 SCORE"
   ]
  },
  {
   "cell_type": "code",
   "execution_count": 233,
   "metadata": {},
   "outputs": [
    {
     "data": {
      "text/plain": [
       "0.7032252943367296"
      ]
     },
     "execution_count": 233,
     "metadata": {},
     "output_type": "execute_result"
    }
   ],
   "source": [
    "from sklearn.metrics import r2_score\n",
    "r2_score(np.log10(Y_test+1),Y_RF)"
   ]
  },
  {
   "cell_type": "code",
   "execution_count": 234,
   "metadata": {},
   "outputs": [
    {
     "data": {
      "text/plain": [
       "0.03076517746038102"
      ]
     },
     "execution_count": 234,
     "metadata": {},
     "output_type": "execute_result"
    }
   ],
   "source": [
    " from sklearn.metrics import mean_absolute_error\n",
    " mean_absolute_error(Y_logtest,Y_RF)"
   ]
  },
  {
   "cell_type": "code",
   "execution_count": 235,
   "metadata": {},
   "outputs": [
    {
     "data": {
      "text/plain": [
       "<function matplotlib.pyplot.show(close=None, block=None)>"
      ]
     },
     "execution_count": 235,
     "metadata": {},
     "output_type": "execute_result"
    },
    {
     "data": {
      "image/png": "[encoded data removed]",
      "text/plain": [
       "<Figure size 432x288 with 1 Axes>"
      ]
     },
     "metadata": {},
     "output_type": "display_data"
    }
   ],
   "source": [
    "Y_logtest=np.log10(Y_test+1)\n",
    "plt.scatter(Y_RF,Y_logtest)\n",
    "plt.plot(Y_logtest,Y_logtest)\n",
    "plt.show"
   ]
  },
  {
   "cell_type": "code",
   "execution_count": null,
   "metadata": {},
   "outputs": [],
   "source": []
  }
 ],
 "metadata": {
  "interpreter": {
   "hash": "fd441cfcfc7976ba75348207833ceeb07cb2b7a140c08cf3a4943f1d8e8745d9"
  },
  "kernelspec": {
   "display_name": "Python 3.9.7 32-bit ('myenv': conda)",
   "language": "python",
   "name": "python3"
  },
  "language_info": {
   "codemirror_mode": {
    "name": "ipython",
    "version": 3
   },
   "file_extension": ".py",
   "mimetype": "text/x-python",
   "name": "python",
   "nbconvert_exporter": "python",
   "pygments_lexer": "ipython3",
   "version": "3.9.7"
  },
  "orig_nbformat": 4
 },
 "nbformat": 4,
 "nbformat_minor": 2
}
